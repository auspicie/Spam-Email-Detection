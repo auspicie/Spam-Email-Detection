{
 "cells": [
  {
   "cell_type": "code",
   "execution_count": null,
   "id": "e83f608b-4381-4820-af8c-a1b24355aefd",
   "metadata": {},
   "outputs": [],
   "source": [
    "import pandas as pd\n",
    "import numpy as np\n",
    "import matplotlib.pyplot as plt\n",
    "import seaborn as sns\n",
    "from sklearn.model_selection import train_test_split\n",
    "from sklearn.feature_extraction.text import TfidfVectorizer\n",
    "from sklearn.linear_model import LogisticRegression\n",
    "from sklearn.ensemble import RandomForestClassifier, GradientBoostingClassifier\n",
    "from sklearn.tree import DecisionTreeClassifier\n",
    "from sklearn.svm import SVC\n",
    "from sklearn.naive_bayes import MultinomialNB\n",
    "from sklearn.neighbors import KNeighborsClassifier\n",
    "from sklearn.metrics import classification_report, confusion_matrix, accuracy_score, roc_auc_score, roc_curve\n",
    "import re\n",
    "import string\n",
    "from collections import Counter\n",
    "import nltk\n",
    "from nltk.corpus import stopwords\n",
    "from nltk.stem import PorterStemmer\n"
   ]
  },
  {
   "cell_type": "code",
   "execution_count": null,
   "id": "df088998-3754-4121-8d0c-5a59a8e5553d",
   "metadata": {},
   "outputs": [],
   "source": [
    "nltk.download('stopwords')"
   ]
  },
  {
   "cell_type": "code",
   "execution_count": null,
   "id": "6023e238-74bc-4dfb-8718-dedd5da0947d",
   "metadata": {},
   "outputs": [],
   "source": [
    "# Load Dataset\n",
    "df = pd.read_csv(\"spam_ham_dataset.csv\")\n",
    "df"
   ]
  },
  {
   "cell_type": "code",
   "execution_count": null,
   "id": "cf5d31a7-7a06-4732-87e6-8ee9a5bcb78b",
   "metadata": {},
   "outputs": [],
   "source": [
    "df.drop(columns=['Unnamed: 0'], inplace=True) # remove unneccessary column\n",
    "df"
   ]
  },
  {
   "cell_type": "code",
   "execution_count": null,
   "id": "fc75dbe1-2b93-4c28-b9ff-9e4bf94bdb4f",
   "metadata": {},
   "outputs": [],
   "source": [
    "df['text'] = df['text'].apply(lambda x: x.replace(\"\\r\\n\", '')) # remove special characters\n",
    "df"
   ]
  },
  {
   "cell_type": "code",
   "execution_count": null,
   "id": "81279a71-7468-4f07-8c5e-0931199bf58e",
   "metadata": {},
   "outputs": [],
   "source": [
    "print(\"Dataset shape:\", df.shape)"
   ]
  },
  {
   "cell_type": "code",
   "execution_count": null,
   "id": "9a52d0a6-a9a7-4f9b-b3a4-9434dd822c1a",
   "metadata": {},
   "outputs": [],
   "source": [
    "print(\"Column names:\", df.columns.tolist())"
   ]
  },
  {
   "cell_type": "code",
   "execution_count": null,
   "id": "f91febd8-1cad-4d91-9ea7-8b44fb5a7499",
   "metadata": {},
   "outputs": [],
   "source": [
    "df.head()"
   ]
  },
  {
   "cell_type": "code",
   "execution_count": null,
   "id": "42271e64-4e89-4e9d-8d12-2ee552771b54",
   "metadata": {},
   "outputs": [],
   "source": [
    "df.tail()"
   ]
  },
  {
   "cell_type": "code",
   "execution_count": null,
   "id": "c1e71d94-58c4-43a6-ad3a-fc96f73c01d6",
   "metadata": {},
   "outputs": [],
   "source": [
    "print(\"Data types:\", df.info())"
   ]
  },
  {
   "cell_type": "code",
   "execution_count": null,
   "id": "84802674-b1f6-425e-9a47-2bd2ee5e6366",
   "metadata": {},
   "outputs": [],
   "source": [
    "# print(df['label_num'].unique())\n",
    "print(df.label_num.unique()) # checking the unique values in the target_column"
   ]
  },
  {
   "cell_type": "code",
   "execution_count": null,
   "id": "796ddb6b-4885-44b9-b3c5-0ac7e2230e7e",
   "metadata": {},
   "outputs": [],
   "source": [
    "print(df['label'].value_counts()) \n",
    "#print(df.label.value_counts()) # Check the target class (label) distribution"
   ]
  },
  {
   "cell_type": "code",
   "execution_count": null,
   "id": "e3120e2b-3600-4d63-9911-462cc6c0d9c4",
   "metadata": {},
   "outputs": [],
   "source": [
    "print(df.label.value_counts(normalize=True)*100) \n",
    "#print(df['label'].value_counts(normalize=True) * 100) # Label distribution (percentages)"
   ]
  },
  {
   "cell_type": "code",
   "execution_count": null,
   "id": "f38fa4aa-9aa4-40f6-abc9-06e89db00292",
   "metadata": {},
   "outputs": [],
   "source": [
    "# Visualising the target class distribution\n",
    "label_counts = df['label_num'].value_counts().sort_index()\n",
    "labels = ['Ham', 'Spam']\n",
    "custom_palette = ['#1f77b4', 'green']\n",
    "\n",
    "# Create subplots\n",
    "fig, axes = plt.subplots(1, 2, figsize=(12, 5))\n",
    "\n",
    "# --- Bar Chart (LEFT) ---\n",
    "# Convert 'label_num' to category to ensure proper hue mapping\n",
    "df['label_num'] = df['label_num'].astype('category')\n",
    "\n",
    "sns.countplot(\n",
    "    x='label_num',\n",
    "    hue='label_num',  # Explicitly set hue\n",
    "    data=df,\n",
    "    palette=custom_palette,\n",
    "    ax=axes[0],\n",
    "    legend=False\n",
    ")\n",
    "axes[0].set_xlabel(\"Target\")\n",
    "axes[0].set_ylabel(\"Count\")\n",
    "axes[0].set_title(\"Spam Email Class Distribution\")\n",
    "handles = [plt.Rectangle((0, 0), 1, 1, color=color) for color in custom_palette]\n",
    "axes[0].legend(handles, labels)\n",
    "\n",
    "# --- Pie Chart (RIGHT) ---\n",
    "axes[1].pie(label_counts, labels=labels, autopct='%1.1f%%', colors=custom_palette, startangle=90)\n",
    "axes[1].set_title(\"Class Proportion\")\n",
    "\n",
    "plt.tight_layout()\n",
    "plt.show()"
   ]
  },
  {
   "cell_type": "code",
   "execution_count": null,
   "id": "28369bd7-4059-423d-a105-fa3fc83532f8",
   "metadata": {},
   "outputs": [],
   "source": [
    "df.text.iloc[1] # checking the content of specific row"
   ]
  },
  {
   "cell_type": "code",
   "execution_count": null,
   "id": "ad21e053-d6dd-4ad9-896a-d4ecc564d4b4",
   "metadata": {},
   "outputs": [],
   "source": [
    "stemmer = PorterStemmer()\n",
    "stopwords_set = set(stopwords.words('english'))"
   ]
  },
  {
   "cell_type": "code",
   "execution_count": null,
   "id": "c61b7a2b-5dd7-48f1-8b45-6d643f9c7ce6",
   "metadata": {},
   "outputs": [],
   "source": [
    "# Preprocessing the text\n",
    "corpus = []\n",
    "for i in range (len(df)):\n",
    "    text = df[\"text\"].iloc[i].lower()\n",
    "    text = text.translate(str.maketrans(\"\", \"\", string.punctuation)).split()\n",
    "    text = [stemmer.stem(word) for word in text if word not in stopwords_set]\n",
    "    text = \" \".join(text)\n",
    "    corpus.append(text)"
   ]
  },
  {
   "cell_type": "code",
   "execution_count": null,
   "id": "4383a86c-3193-454a-beb8-db31f3035d5c",
   "metadata": {},
   "outputs": [],
   "source": [
    "df.text.iloc[0] # checking the text in the first row\n"
   ]
  },
  {
   "cell_type": "code",
   "execution_count": null,
   "id": "98670027-ecb7-4666-abd1-152506728815",
   "metadata": {},
   "outputs": [],
   "source": [
    "# Encode Label\n",
    "y = df['label'].map({'ham': 0, 'spam': 1})  # Binary encoding\n",
    "y\n"
   ]
  },
  {
   "cell_type": "code",
   "execution_count": null,
   "id": "4a567757-3f47-4fe6-a1ef-3b9cc720e403",
   "metadata": {},
   "outputs": [],
   "source": [
    "# Step 1: Split text before vectorisation\n",
    "corpus_train, corpus_test, y_train, y_test = train_test_split(\n",
    "    corpus,\n",
    "    y,\n",
    "    test_size=0.2,\n",
    "    stratify=y,\n",
    "    random_state=42\n",
    ")"
   ]
  },
  {
   "cell_type": "code",
   "execution_count": null,
   "id": "7ba48470-62ff-4fd3-ad9e-6124d19cf2e5",
   "metadata": {},
   "outputs": [],
   "source": [
    "len(corpus_train)  # This returns how many messages are in corpus_train"
   ]
  },
  {
   "cell_type": "code",
   "execution_count": null,
   "id": "36dc1246-600e-4022-9890-7d742b3d2bab",
   "metadata": {},
   "outputs": [],
   "source": [
    "len(corpus_test)"
   ]
  },
  {
   "cell_type": "code",
   "execution_count": null,
   "id": "0e05ed88-3850-4a7f-8515-28fa8288c6be",
   "metadata": {},
   "outputs": [],
   "source": [
    "# Step 2: Initialize and fit TfidfVectorizer on training text only\n",
    "vectorizer = TfidfVectorizer()\n",
    "#max_df=0.9,         # Ignore very frequent words\n",
    "#min_df=5,           # Ignore rare words appearing in <5 docs\n",
    "#ngram_range=(1, 2)  # Use unigrams and bigrams\n",
    "X_train = vectorizer.fit_transform(corpus_train)  # Fit + transform on training\n",
    "X_test = vectorizer.transform(corpus_test)        # Transform only on test\n"
   ]
  },
  {
   "cell_type": "code",
   "execution_count": null,
   "id": "2ba0a725-5e7f-4a66-9158-53cf38a77bf4",
   "metadata": {},
   "outputs": [],
   "source": [
    "X_train.shape   # rows = messages, columns = unique words\n"
   ]
  },
  {
   "cell_type": "code",
   "execution_count": null,
   "id": "dc29a371-290e-407b-87c7-b112ccea11a6",
   "metadata": {},
   "outputs": [],
   "source": [
    "X_test.shape"
   ]
  },
  {
   "cell_type": "code",
   "execution_count": null,
   "id": "9a3717ce-ba75-4f92-b917-d40f5e631f7f",
   "metadata": {},
   "outputs": [],
   "source": [
    "# Optional: Convert to dense arrays (if needed by your model)\n",
    "# X_train = X_train.toarray()\n",
    "# X_test = X_test.toarray()\n"
   ]
  },
  {
   "cell_type": "markdown",
   "id": "1434721d-c5ce-45e3-958f-eda4389ed08c",
   "metadata": {},
   "source": [
    "# Baseline Model"
   ]
  },
  {
   "cell_type": "code",
   "execution_count": null,
   "id": "0db3a302-238a-4b25-b027-d9a050554574",
   "metadata": {},
   "outputs": [],
   "source": [
    "# Most Frequent\n",
    "from sklearn.dummy import DummyClassifier\n",
    "baseline_mf = DummyClassifier(strategy=\"most_frequent\")\n",
    "baseline_mf.fit(X_train, y_train)\n",
    "y_pred_mf = baseline_mf.predict(X_test)\n",
    "acc_mf = accuracy_score(y_test, y_pred_mf)\n",
    "print(\"Baseline Model - Most Frequent\")\n",
    "print(\"Accuracy:\", acc_mf)\n",
    "print(\"Classification Report:\\n\", classification_report(y_test, y_pred_mf, zero_division=0))"
   ]
  },
  {
   "cell_type": "code",
   "execution_count": null,
   "id": "3e27c02f-ca09-4e7c-ab22-f616b6ca0a70",
   "metadata": {},
   "outputs": [],
   "source": [
    "# Stratified\n",
    "baseline_strat = DummyClassifier(strategy=\"stratified\", random_state=42)\n",
    "baseline_strat.fit(X_train, y_train)\n",
    "y_pred_strat = baseline_strat.predict(X_test)\n",
    "acc_strat = accuracy_score(y_test, y_pred_strat)\n",
    "print(\"Baseline Model - Stratified\")\n",
    "print(\"Accuracy:\", acc_strat)\n",
    "print(\"Classification Report:\\n\", classification_report(y_test, y_pred_strat, zero_division=0))"
   ]
  },
  {
   "cell_type": "code",
   "execution_count": null,
   "id": "e528b082-8cec-423e-9604-87d8d439f48b",
   "metadata": {},
   "outputs": [],
   "source": [
    "# Uniform\n",
    "baseline_uniform = DummyClassifier(strategy=\"uniform\", random_state=42)\n",
    "baseline_uniform.fit(X_train, y_train)\n",
    "y_pred_uniform = baseline_uniform.predict(X_test)\n",
    "acc_uniform = accuracy_score(y_test, y_pred_uniform)\n",
    "print(\"Baseline Model - Uniform\")\n",
    "print(\"Accuracy:\", acc_uniform)\n",
    "print(\"Classification Report:\\n\", classification_report(y_test, y_pred_uniform, zero_division=0))"
   ]
  },
  {
   "cell_type": "markdown",
   "id": "b4326ed0-8967-4d40-abca-b21f13bc808c",
   "metadata": {},
   "source": [
    "# Build and Train Multiple Models\n"
   ]
  },
  {
   "cell_type": "code",
   "execution_count": null,
   "id": "c6d44f28-1f6d-4c3c-b4ac-b83c0395c199",
   "metadata": {},
   "outputs": [],
   "source": [
    "models = {\n",
    "    \"Logistic Regression\": LogisticRegression(max_iter=1000, class_weight='balanced'), # class_weight='balanced'\n",
    "    \"Random Forest\": RandomForestClassifier(class_weight='balanced'), # class_weight='balanced'\n",
    "    \"Decision Tree\": DecisionTreeClassifier(class_weight='balanced'), # class_weight='balanced'\n",
    "    \"K-Nearest Neighbors\": KNeighborsClassifier(),\n",
    "    \"Support Vector Machine\": SVC(probability=True), # class_weight='balanced'\n",
    "    \"Naive Bayes\": MultinomialNB(),\n",
    "    \"Gradient Boosting\": GradientBoostingClassifier()\n",
    "}\n",
    "\n",
    "results = []\n",
    "\n",
    "for name, model in models.items():\n",
    "    model.fit(X_train, y_train)\n",
    "    y_pred = model.predict(X_test)\n",
    "    \n",
    "    try:\n",
    "        y_proba = model.predict_proba(X_test)[:, 1]\n",
    "        auc = roc_auc_score(y_test, y_proba)\n",
    "    except AttributeError:\n",
    "        y_proba = None\n",
    "        auc = None\n",
    "        \n",
    "    acc = accuracy_score(y_test, y_pred)\n",
    "    print(f\"\\n{name}\")\n",
    "    print(\"Confusion Matrix:\\n\", confusion_matrix(y_test, y_pred))\n",
    "    print(\"Classification Report:\\n\", classification_report(y_test, y_pred))\n",
    "    print(\"Accuracy:\", acc)\n",
    "    print(\"ROC AUC Score:\", auc)\n",
    "    results.append((name, acc, auc))\n",
    "\n",
    "# Add baselines to results\n",
    "results.insert(0, (\"Baseline (Uniform)\", acc_uniform, None))\n",
    "results.insert(0, (\"Baseline (Stratified)\", acc_strat, None))\n",
    "results.insert(0, (\"Baseline (Most Frequent)\", acc_mf, None))\n"
   ]
  },
  {
   "cell_type": "code",
   "execution_count": null,
   "id": "1ea25b6d-60a0-4f11-81b2-cbcf78ba892b",
   "metadata": {},
   "outputs": [],
   "source": [
    "results_df = pd.DataFrame(results, columns=[\"Model\", \"Accuracy\", \"ROC AUC\"])\n",
    "print(\"\\nModel Comparison:\")\n",
    "print(results_df.sort_values(by=\"ROC AUC\", ascending=False))\n"
   ]
  },
  {
   "cell_type": "code",
   "execution_count": null,
   "id": "ea6c62e6-563d-4e4d-816c-ca19dbb37fd6",
   "metadata": {},
   "outputs": [],
   "source": [
    "# Cross Validation\n",
    "from sklearn.model_selection import cross_val_score, StratifiedKFold\n",
    "cv = StratifiedKFold(n_splits=5, shuffle=True, random_state=42)\n",
    "print(\"Cross-Validation Results:\")\n",
    "for name, model in models.items():\n",
    "    scores = cross_val_score(model, X_train, y_train, cv=cv, scoring='accuracy')\n",
    "    print(f\"{name}: {scores.mean():.4f} ± {scores.std():.4f}\")"
   ]
  },
  {
   "cell_type": "code",
   "execution_count": null,
   "id": "f2ab393e-d263-4364-b3b5-cc75a995cdeb",
   "metadata": {},
   "outputs": [],
   "source": [
    "# Display the cross validation result in a tabular format\n",
    "results = []\n",
    "for name, model in models.items():\n",
    "    scores = cross_val_score(model, X_train, y_train, cv=cv, scoring='accuracy')\n",
    "    results.append({\n",
    "        'Model': name,\n",
    "        'Mean Accuracy': scores.mean(),\n",
    "        'Std Dev': scores.std()\n",
    "    })\n",
    "\n",
    "# Create a DataFrame for display\n",
    "results_df = pd.DataFrame(results).sort_values(by='Mean Accuracy', ascending= False)\n",
    "\n",
    "# Format and display\n",
    "results_df = results_df.round(4)\n",
    "print(\"Cross-Validation Results:\")\n",
    "display(results_df)"
   ]
  },
  {
   "cell_type": "code",
   "execution_count": null,
   "id": "23f4c880-67e9-4db6-a8f0-6061a41a074b",
   "metadata": {},
   "outputs": [],
   "source": [
    "# Hyperparameter Tuning\n",
    "from sklearn.model_selection import GridSearchCV\n",
    "\n",
    "param_grid = {\n",
    "    'C': [0.1, 1, 10, 100],            # Regularization parameter\n",
    "    'kernel': ['linear', 'rbf'],       # Try linear and RBF kernels\n",
    "    'gamma': ['scale', 'auto']          # For RBF kernel\n",
    "}\n",
    "\n",
    "svm = SVC(probability=True)\n",
    "\n",
    "grid_search = GridSearchCV(svm, param_grid, cv=5, scoring='accuracy', verbose=2)\n",
    "grid_search.fit(X_train, y_train)\n",
    "\n",
    "print(\"Best parameters:\", grid_search.best_params_)\n",
    "print(\"Best cross-validation accuracy:\", grid_search.best_score_)\n"
   ]
  },
  {
   "cell_type": "code",
   "execution_count": null,
   "id": "5c4c0315-212d-469a-940f-29de190f0b9a",
   "metadata": {},
   "outputs": [],
   "source": [
    "# Evaluate best svm on test set\n",
    "best_svm = grid_search.best_estimator_\n",
    "y_svm_pred = best_svm.predict(X_test)\n",
    "print(\"Test Accuracy (Best svm):\", accuracy_score(y_test, y_svm_pred))\n",
    "print(\"Classification Report (Best svm):\\n\", classification_report(y_test, y_svm_pred))"
   ]
  },
  {
   "cell_type": "code",
   "execution_count": null,
   "id": "792b2ea8-6aa2-4dcb-a23f-d9d6d640a032",
   "metadata": {},
   "outputs": [],
   "source": [
    "# Save the best model\n",
    "import pickle\n",
    "best_model = models[\"Support Vector Machine\"]\n",
    "# Save your best-performing model\n",
    "with open(\"spam_model_svm.pkl\", \"wb\") as f:\n",
    "    pickle.dump(best_model, f)\n",
    "\n",
    "# Save the CountVectorizer used during training\n",
    "with open(\"tfidf_vectorizer.pkl\", \"wb\") as f:\n",
    "    pickle.dump(vectorizer, f)"
   ]
  }
 ],
 "metadata": {
  "kernelspec": {
   "display_name": "Python [conda env:base] *",
   "language": "python",
   "name": "conda-base-py"
  },
  "language_info": {
   "codemirror_mode": {
    "name": "ipython",
    "version": 3
   },
   "file_extension": ".py",
   "mimetype": "text/x-python",
   "name": "python",
   "nbconvert_exporter": "python",
   "pygments_lexer": "ipython3",
   "version": "3.12.9"
  }
 },
 "nbformat": 4,
 "nbformat_minor": 5
}
